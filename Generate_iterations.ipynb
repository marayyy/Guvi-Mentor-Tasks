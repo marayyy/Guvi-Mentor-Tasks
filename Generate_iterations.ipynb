{
  "nbformat": 4,
  "nbformat_minor": 0,
  "metadata": {
    "colab": {
      "provenance": [],
      "authorship_tag": "ABX9TyP1g3i1741EnhpbSi+CSaql",
      "include_colab_link": true
    },
    "kernelspec": {
      "name": "python3",
      "display_name": "Python 3"
    },
    "language_info": {
      "name": "python"
    }
  },
  "cells": [
    {
      "cell_type": "markdown",
      "metadata": {
        "id": "view-in-github",
        "colab_type": "text"
      },
      "source": [
        "<a href=\"https://colab.research.google.com/github/marayyy/Guvi-Mentor-Tasks/blob/Guvi/Generate_iterations.ipynb\" target=\"_parent\"><img src=\"https://colab.research.google.com/assets/colab-badge.svg\" alt=\"Open In Colab\"/></a>"
      ]
    },
    {
      "cell_type": "markdown",
      "source": [
        "# Generate iterations"
      ],
      "metadata": {
        "id": "YTR_Jme83eZN"
      }
    },
    {
      "cell_type": "markdown",
      "source": [
        "Use loop function, to find the place value where the above\n",
        "mentioned password got generated."
      ],
      "metadata": {
        "id": "7h6E6fbe3UDV"
      }
    },
    {
      "cell_type": "markdown",
      "source": [
        "Import itertools library"
      ],
      "metadata": {
        "id": "esTSZ_va7G7H"
      }
    },
    {
      "cell_type": "code",
      "execution_count": 1,
      "metadata": {
        "id": "jNdF5ecnzQfw"
      },
      "outputs": [],
      "source": [
        "from itertools import permutations"
      ]
    },
    {
      "cell_type": "code",
      "source": [
        "X=(0,1,2,3,4,5,6,7,8,9) # Input data has been stored in form of X\n",
        "\n",
        "Pwd=(5,7,3,8) # It the password which has to be created using the iteration"
      ],
      "metadata": {
        "id": "AHkrFhbL6qMa"
      },
      "execution_count": 2,
      "outputs": []
    },
    {
      "cell_type": "markdown",
      "source": [
        "Driver code"
      ],
      "metadata": {
        "id": "r1KMkXU97Moa"
      }
    },
    {
      "cell_type": "code",
      "source": [
        "iterCount=[] # Creating a empty list to store all the permutations\n",
        "\n",
        "Permu=permutations(X,4) # Using the library we are giving the input and the no. of letters that the password has.\n",
        "\n",
        "for i in Permu:\n",
        "  iterCount.append(i)\n",
        "  if i == Pwd:\n",
        "    print(\"Pwd:\",i)\n",
        "    break\n",
        "  else:\n",
        "    continue\n",
        "\n",
        "print(\"THE PASSWORD HAS BEEN GENERATED IN THE\",len(iterCount),\"th COUNT.\")"
      ],
      "metadata": {
        "colab": {
          "base_uri": "https://localhost:8080/"
        },
        "id": "coucCJvB61WW",
        "outputId": "348e39ec-d260-48c2-f6d9-b049702665de"
      },
      "execution_count": 3,
      "outputs": [
        {
          "output_type": "stream",
          "name": "stdout",
          "text": [
            "Pwd: (5, 7, 3, 8)\n",
            "THE PASSWORD HAS BEEN GENERATED IN THE 2883 th COUNT.\n"
          ]
        }
      ]
    },
    {
      "cell_type": "markdown",
      "source": [
        "THE PASSWAORD HAS BEEN IDENTIFIED USING THE ITERATION METHOD"
      ],
      "metadata": {
        "id": "3wmQ6LZW6-hz"
      }
    }
  ]
}